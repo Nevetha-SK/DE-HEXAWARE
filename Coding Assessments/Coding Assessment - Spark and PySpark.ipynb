{
  "nbformat": 4,
  "nbformat_minor": 0,
  "metadata": {
    "colab": {
      "provenance": []
    },
    "kernelspec": {
      "name": "python3",
      "display_name": "Python 3"
    },
    "language_info": {
      "name": "python"
    }
  },
  "cells": [
    {
      "cell_type": "markdown",
      "source": [
        "# CODING ASSESSMENT - Spark and PySpark"
      ],
      "metadata": {
        "id": "CdEju9Vgo93t"
      }
    },
    {
      "cell_type": "markdown",
      "source": [
        "## Transformations and Actions"
      ],
      "metadata": {
        "id": "SvLyWK8cpUJ7"
      }
    },
    {
      "cell_type": "code",
      "execution_count": 1,
      "metadata": {
        "id": "Dp51RPCao0Au"
      },
      "outputs": [],
      "source": [
        "# Start Spark session\n",
        "from pyspark.sql import SparkSession\n",
        "from pyspark.sql.functions import col, avg, sum, row_number\n",
        "from pyspark.sql.window import Window\n",
        "\n",
        "spark = SparkSession.builder.appName(\"PySparkTransformations\").getOrCreate()"
      ]
    },
    {
      "cell_type": "code",
      "source": [
        "#  Sample DataFrames\n",
        "data1 = [\n",
        "    (1, \"Alice\", 2000, \"HR\"),\n",
        "    (2, \"Bob\", 3000, \"Finance\"),\n",
        "    (3, \"Cathy\", 2500, \"HR\"),\n",
        "    (4, \"David\", 4000, \"IT\"),\n",
        "    (5, \"Eva\", 2800, \"Finance\")\n",
        "]\n",
        "columns1 = [\"id\", \"name\", \"salary\", \"dept\"]\n",
        "\n",
        "df1 = spark.createDataFrame(data1, columns1)\n",
        "\n",
        "data2 = [\n",
        "    (1, \"India\"),\n",
        "    (2, \"USA\"),\n",
        "    (3, \"UK\"),\n",
        "    (4, \"Germany\"),\n",
        "    (6, \"Canada\")\n",
        "]\n",
        "columns2 = [\"id\", \"country\"]\n",
        "\n",
        "df2 = spark.createDataFrame(data2, columns2)"
      ],
      "metadata": {
        "id": "xF3sZ6Wupsyw"
      },
      "execution_count": 2,
      "outputs": []
    },
    {
      "cell_type": "code",
      "source": [
        "# Transformation - Filter\n",
        "filtered_df = df1.filter(df1.salary > 2500)\n",
        "print(\"Filtered rows where salary > 2500\")\n",
        "filtered_df.show()"
      ],
      "metadata": {
        "colab": {
          "base_uri": "https://localhost:8080/"
        },
        "id": "DA3bZGKmqBFU",
        "outputId": "78fbe206-dd18-47dc-fb90-833c4818bf62"
      },
      "execution_count": 3,
      "outputs": [
        {
          "output_type": "stream",
          "name": "stdout",
          "text": [
            "Filtered rows where salary > 2500\n",
            "+---+-----+------+-------+\n",
            "| id| name|salary|   dept|\n",
            "+---+-----+------+-------+\n",
            "|  2|  Bob|  3000|Finance|\n",
            "|  4|David|  4000|     IT|\n",
            "|  5|  Eva|  2800|Finance|\n",
            "+---+-----+------+-------+\n",
            "\n"
          ]
        }
      ]
    },
    {
      "cell_type": "code",
      "source": [
        "# Transformation - Join\n",
        "joined_df = df1.join(df2, on=\"id\", how=\"inner\")\n",
        "print(\"Joined DataFrame on 'id'\")\n",
        "joined_df.show()\n"
      ],
      "metadata": {
        "colab": {
          "base_uri": "https://localhost:8080/"
        },
        "id": "g91FBOCkqyB2",
        "outputId": "05a4123d-9eab-4894-a109-8c01ba5eade9"
      },
      "execution_count": 4,
      "outputs": [
        {
          "output_type": "stream",
          "name": "stdout",
          "text": [
            "Joined DataFrame on 'id'\n",
            "+---+-----+------+-------+-------+\n",
            "| id| name|salary|   dept|country|\n",
            "+---+-----+------+-------+-------+\n",
            "|  1|Alice|  2000|     HR|  India|\n",
            "|  2|  Bob|  3000|Finance|    USA|\n",
            "|  3|Cathy|  2500|     HR|     UK|\n",
            "|  4|David|  4000|     IT|Germany|\n",
            "+---+-----+------+-------+-------+\n",
            "\n"
          ]
        }
      ]
    },
    {
      "cell_type": "code",
      "source": [
        "# Transformation - GroupBy and Aggregation\n",
        "grouped_df = df1.groupBy(\"dept\").agg(\n",
        "    avg(\"salary\").alias(\"avg_salary\"),\n",
        "    sum(\"salary\").alias(\"total_salary\"))\n",
        "print(\"GroupBy dept and aggregate\")\n",
        "grouped_df.show()\n"
      ],
      "metadata": {
        "colab": {
          "base_uri": "https://localhost:8080/"
        },
        "id": "-DWoZvMJrJKi",
        "outputId": "b5534f38-6160-4f4c-b875-0b7dea489e60"
      },
      "execution_count": 7,
      "outputs": [
        {
          "output_type": "stream",
          "name": "stdout",
          "text": [
            "GroupBy dept and aggregate\n",
            "+-------+----------+------------+\n",
            "|   dept|avg_salary|total_salary|\n",
            "+-------+----------+------------+\n",
            "|     HR|    2250.0|        4500|\n",
            "|Finance|    2900.0|        5800|\n",
            "|     IT|    4000.0|        4000|\n",
            "+-------+----------+------------+\n",
            "\n"
          ]
        }
      ]
    },
    {
      "cell_type": "code",
      "source": [
        "# Transformation - Window Function\n",
        "window_spec = Window.partitionBy(\"dept\").orderBy(col(\"salary\").desc())\n",
        "ranked_df = df1.withColumn(\"rank\", row_number().over(window_spec))\n",
        "print(\"Window function: Rank employees within each dept by salary\")\n",
        "ranked_df.show()"
      ],
      "metadata": {
        "colab": {
          "base_uri": "https://localhost:8080/"
        },
        "id": "IiojGo01rhIB",
        "outputId": "250b4664-73cf-4175-d81e-9bc0ef4cebc2"
      },
      "execution_count": 8,
      "outputs": [
        {
          "output_type": "stream",
          "name": "stdout",
          "text": [
            "Window function: Rank employees within each dept by salary\n",
            "+---+-----+------+-------+----+\n",
            "| id| name|salary|   dept|rank|\n",
            "+---+-----+------+-------+----+\n",
            "|  2|  Bob|  3000|Finance|   1|\n",
            "|  5|  Eva|  2800|Finance|   2|\n",
            "|  3|Cathy|  2500|     HR|   1|\n",
            "|  1|Alice|  2000|     HR|   2|\n",
            "|  4|David|  4000|     IT|   1|\n",
            "+---+-----+------+-------+----+\n",
            "\n"
          ]
        }
      ]
    },
    {
      "cell_type": "code",
      "source": [
        "# Action - Collect\n",
        "print(\"Collecting all data as list of Rows\")\n",
        "collected = df1.collect()\n",
        "for row in collected:\n",
        "    print(row)\n"
      ],
      "metadata": {
        "colab": {
          "base_uri": "https://localhost:8080/"
        },
        "id": "05wlC_yrr0iL",
        "outputId": "1972858c-061a-4fd7-b5f8-615f69bc308a"
      },
      "execution_count": 9,
      "outputs": [
        {
          "output_type": "stream",
          "name": "stdout",
          "text": [
            "Collecting all data as list of Rows\n",
            "Row(id=1, name='Alice', salary=2000, dept='HR')\n",
            "Row(id=2, name='Bob', salary=3000, dept='Finance')\n",
            "Row(id=3, name='Cathy', salary=2500, dept='HR')\n",
            "Row(id=4, name='David', salary=4000, dept='IT')\n",
            "Row(id=5, name='Eva', salary=2800, dept='Finance')\n"
          ]
        }
      ]
    },
    {
      "cell_type": "code",
      "source": [
        "# Action - Count\n",
        "print(\"Total number of records in df1:\", df1.count())"
      ],
      "metadata": {
        "colab": {
          "base_uri": "https://localhost:8080/"
        },
        "id": "Bj2HA2IpsE46",
        "outputId": "5955ad23-726b-4c19-d5a0-38f42816a646"
      },
      "execution_count": 10,
      "outputs": [
        {
          "output_type": "stream",
          "name": "stdout",
          "text": [
            "Total number of records in df1: 5\n"
          ]
        }
      ]
    },
    {
      "cell_type": "code",
      "source": [
        "# Action - Show\n",
        "print(\"Showing original df1\")\n",
        "df1.show()"
      ],
      "metadata": {
        "colab": {
          "base_uri": "https://localhost:8080/"
        },
        "id": "zvmsdUZHsSCG",
        "outputId": "7f821d51-7974-4e91-9217-2438d225b38b"
      },
      "execution_count": 11,
      "outputs": [
        {
          "output_type": "stream",
          "name": "stdout",
          "text": [
            "Showing original df1\n",
            "+---+-----+------+-------+\n",
            "| id| name|salary|   dept|\n",
            "+---+-----+------+-------+\n",
            "|  1|Alice|  2000|     HR|\n",
            "|  2|  Bob|  3000|Finance|\n",
            "|  3|Cathy|  2500|     HR|\n",
            "|  4|David|  4000|     IT|\n",
            "|  5|  Eva|  2800|Finance|\n",
            "+---+-----+------+-------+\n",
            "\n"
          ]
        }
      ]
    },
    {
      "cell_type": "code",
      "source": [
        "# Action - first\n",
        "print(\"First row of DataFrame:\")\n",
        "print(df1.first())"
      ],
      "metadata": {
        "colab": {
          "base_uri": "https://localhost:8080/"
        },
        "id": "0Qvwgp59sczH",
        "outputId": "b90fa451-4fef-4db6-92b1-2fffaa3670a5"
      },
      "execution_count": 12,
      "outputs": [
        {
          "output_type": "stream",
          "name": "stdout",
          "text": [
            "First row of DataFrame:\n",
            "Row(id=1, name='Alice', salary=2000, dept='HR')\n"
          ]
        }
      ]
    },
    {
      "cell_type": "code",
      "source": [
        "# Action - Take(n)\n",
        "print(\"First 3 rows using take():\")\n",
        "first_three = df1.take(3)\n",
        "for row in first_three:\n",
        "    print(row)\n"
      ],
      "metadata": {
        "colab": {
          "base_uri": "https://localhost:8080/"
        },
        "id": "f3kQ4X8FtraS",
        "outputId": "b3fab133-64e9-4924-8a8f-5c27a6e807f7"
      },
      "execution_count": 13,
      "outputs": [
        {
          "output_type": "stream",
          "name": "stdout",
          "text": [
            "First 3 rows using take():\n",
            "Row(id=1, name='Alice', salary=2000, dept='HR')\n",
            "Row(id=2, name='Bob', salary=3000, dept='Finance')\n",
            "Row(id=3, name='Cathy', salary=2500, dept='HR')\n"
          ]
        }
      ]
    },
    {
      "cell_type": "code",
      "source": [
        "# ACTION - Reduce\n",
        "salary_rdd = df1.select(\"salary\").rdd.map(lambda row: row[0])\n",
        "total_salary = salary_rdd.reduce(lambda x, y: x + y)\n",
        "print(\"Total salary:\", total_salary)"
      ],
      "metadata": {
        "colab": {
          "base_uri": "https://localhost:8080/"
        },
        "id": "AYVBM2V5t7JG",
        "outputId": "e3461778-8f08-476e-824f-abe2d8d3189a"
      },
      "execution_count": 15,
      "outputs": [
        {
          "output_type": "stream",
          "name": "stdout",
          "text": [
            "Total salary: 14300\n"
          ]
        }
      ]
    },
    {
      "cell_type": "code",
      "source": [
        "# Action saveAsTextFile\n",
        "# Convert df1 to RDD and save it\n",
        "rdd_to_save = df1.rdd\n",
        "output_path = \"/content/df1_saved_output\"\n",
        "rdd_to_save.saveAsTextFile(output_path)\n",
        "print(f\"DataFrame RDD saved as text file in: {output_path}\")\n"
      ],
      "metadata": {
        "colab": {
          "base_uri": "https://localhost:8080/"
        },
        "id": "FyzYCZUOuMyS",
        "outputId": "723a039e-1ea5-469d-b9b9-e6ffec02f2ce"
      },
      "execution_count": 16,
      "outputs": [
        {
          "output_type": "stream",
          "name": "stdout",
          "text": [
            "DataFrame RDD saved as text file in: /content/df1_saved_output\n"
          ]
        }
      ]
    },
    {
      "cell_type": "code",
      "source": [],
      "metadata": {
        "id": "_YwrDQbsut23"
      },
      "execution_count": null,
      "outputs": []
    }
  ]
}